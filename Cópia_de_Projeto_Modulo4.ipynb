{
  "nbformat": 4,
  "nbformat_minor": 0,
  "metadata": {
    "colab": {
      "name": "Cópia de Projeto_Modulo4.ipynb",
      "provenance": [],
      "collapsed_sections": [],
      "include_colab_link": true
    },
    "kernelspec": {
      "name": "python3",
      "display_name": "Python 3"
    },
    "language_info": {
      "name": "python"
    }
  },
  "cells": [
    {
      "cell_type": "markdown",
      "metadata": {
        "id": "view-in-github",
        "colab_type": "text"
      },
      "source": [
        "<a href=\"https://colab.research.google.com/github/Reinaldos/Reinaldos/blob/main/C%C3%B3pia_de_Projeto_Modulo4.ipynb\" target=\"_parent\"><img src=\"https://colab.research.google.com/assets/colab-badge.svg\" alt=\"Open In Colab\"/></a>"
      ]
    },
    {
      "cell_type": "markdown",
      "source": [
        "#**Projeto de Encerramento do Módulo 04 - Grupo 08**\n",
        "##Análise exploratória relacionada à série histórica de preço de venda da gasolina e do etanol\n"
      ],
      "metadata": {
        "id": "NiSqzgmi7Zae"
      }
    },
    {
      "cell_type": "markdown",
      "source": [
        "**Fonte de Dados Utilizada** \n",
        "\n",
        "*   Portal Brasileiro de Dados Abertos - https://dados.gov.br/anp\n",
        "*   Base de Dados da Agência Nacional do Petróleo, Gás Natural e Biocombustíveis - ANP referente aos meses de junho e julho de 2021 contendo a série histórica dos preços da gasolina e do etanol em todo o Brasil disponíveis no portal\n",
        "\n",
        "\n",
        "\n",
        "\n",
        "\n",
        "\n"
      ],
      "metadata": {
        "id": "miyGGOJL7hfj"
      }
    },
    {
      "cell_type": "markdown",
      "source": [
        "###Importando Base de Dados\n",
        "####Importando bibliotecas Pandas e Nunpy"
      ],
      "metadata": {
        "id": "Lm_ovi9OH3W5"
      }
    },
    {
      "cell_type": "code",
      "source": [
        "import pandas as pd\n",
        "import numpy as np"
      ],
      "metadata": {
        "id": "j-wqYhEPHlkl"
      },
      "execution_count": 3,
      "outputs": []
    },
    {
      "cell_type": "markdown",
      "source": [
        "##**Base de dados junho de 2021**\n"
      ],
      "metadata": {
        "id": "HXWa7YifusgU"
      }
    },
    {
      "cell_type": "code",
      "source": [
        "junho21 = pd.read_csv ('https://www.gov.br/anp/pt-br/centrais-de-conteudo/dados-abertos/arquivos/shpc/dsan/2021/2021-06-gasolina-etanol.csv', sep = ';')\n",
        "junho21"
      ],
      "metadata": {
        "colab": {
          "base_uri": "https://localhost:8080/",
          "height": 921
        },
        "id": "BHeR3qTUuEl1",
        "outputId": "832e36fa-70de-487c-d4b0-8dfb2deae3b5"
      },
      "execution_count": 4,
      "outputs": [
        {
          "output_type": "execute_result",
          "data": {
            "text/html": [
              "\n",
              "  <div id=\"df-e10b22af-965c-4369-969c-049580f1a801\">\n",
              "    <div class=\"colab-df-container\">\n",
              "      <div>\n",
              "<style scoped>\n",
              "    .dataframe tbody tr th:only-of-type {\n",
              "        vertical-align: middle;\n",
              "    }\n",
              "\n",
              "    .dataframe tbody tr th {\n",
              "        vertical-align: top;\n",
              "    }\n",
              "\n",
              "    .dataframe thead th {\n",
              "        text-align: right;\n",
              "    }\n",
              "</style>\n",
              "<table border=\"1\" class=\"dataframe\">\n",
              "  <thead>\n",
              "    <tr style=\"text-align: right;\">\n",
              "      <th></th>\n",
              "      <th>Região - Sigla</th>\n",
              "      <th>Estado - Sigla</th>\n",
              "      <th>Município</th>\n",
              "      <th>Revenda</th>\n",
              "      <th>CNPJ da Revenda</th>\n",
              "      <th>Nome da Rua</th>\n",
              "      <th>Número Rua</th>\n",
              "      <th>Complemento</th>\n",
              "      <th>Bairro</th>\n",
              "      <th>Cep</th>\n",
              "      <th>Produto</th>\n",
              "      <th>Data da Coleta</th>\n",
              "      <th>Valor de Venda</th>\n",
              "      <th>Valor de Compra</th>\n",
              "      <th>Unidade de Medida</th>\n",
              "      <th>Bandeira</th>\n",
              "    </tr>\n",
              "  </thead>\n",
              "  <tbody>\n",
              "    <tr>\n",
              "      <th>0</th>\n",
              "      <td>N</td>\n",
              "      <td>AC</td>\n",
              "      <td>CRUZEIRO DO SUL</td>\n",
              "      <td>CARDINAL E OLIVEIRA LTDA</td>\n",
              "      <td>03.608.766/0005-75</td>\n",
              "      <td>AVENIDA BOULEVARD THAUMATURGO</td>\n",
              "      <td>1031</td>\n",
              "      <td>NaN</td>\n",
              "      <td>CENTRO</td>\n",
              "      <td>69980-000</td>\n",
              "      <td>GASOLINA</td>\n",
              "      <td>02/06/2021</td>\n",
              "      <td>6,89</td>\n",
              "      <td>NaN</td>\n",
              "      <td>R$ / litro</td>\n",
              "      <td>PETROBRAS DISTRIBUIDORA S.A.</td>\n",
              "    </tr>\n",
              "    <tr>\n",
              "      <th>1</th>\n",
              "      <td>N</td>\n",
              "      <td>AC</td>\n",
              "      <td>CRUZEIRO DO SUL</td>\n",
              "      <td>CARDINAL E OLIVEIRA LTDA</td>\n",
              "      <td>03.608.766/0005-75</td>\n",
              "      <td>AVENIDA BOULEVARD THAUMATURGO</td>\n",
              "      <td>1031</td>\n",
              "      <td>NaN</td>\n",
              "      <td>CENTRO</td>\n",
              "      <td>69980-000</td>\n",
              "      <td>GASOLINA ADITIVADA</td>\n",
              "      <td>02/06/2021</td>\n",
              "      <td>6,89</td>\n",
              "      <td>NaN</td>\n",
              "      <td>R$ / litro</td>\n",
              "      <td>PETROBRAS DISTRIBUIDORA S.A.</td>\n",
              "    </tr>\n",
              "    <tr>\n",
              "      <th>2</th>\n",
              "      <td>N</td>\n",
              "      <td>AC</td>\n",
              "      <td>CRUZEIRO DO SUL</td>\n",
              "      <td>CARDINAL E OLIVEIRA LTDA</td>\n",
              "      <td>03.608.766/0006-56</td>\n",
              "      <td>AVENIDA 25 DE AGOSTO</td>\n",
              "      <td>1350</td>\n",
              "      <td>NaN</td>\n",
              "      <td>25 DE AGOSTO</td>\n",
              "      <td>69980-000</td>\n",
              "      <td>ETANOL</td>\n",
              "      <td>01/06/2021</td>\n",
              "      <td>6,1</td>\n",
              "      <td>NaN</td>\n",
              "      <td>R$ / litro</td>\n",
              "      <td>PETROBRAS DISTRIBUIDORA S.A.</td>\n",
              "    </tr>\n",
              "    <tr>\n",
              "      <th>3</th>\n",
              "      <td>N</td>\n",
              "      <td>AC</td>\n",
              "      <td>CRUZEIRO DO SUL</td>\n",
              "      <td>CARDINAL E OLIVEIRA LTDA</td>\n",
              "      <td>03.608.766/0006-56</td>\n",
              "      <td>AVENIDA 25 DE AGOSTO</td>\n",
              "      <td>1350</td>\n",
              "      <td>NaN</td>\n",
              "      <td>25 DE AGOSTO</td>\n",
              "      <td>69980-000</td>\n",
              "      <td>GASOLINA</td>\n",
              "      <td>01/06/2021</td>\n",
              "      <td>6,89</td>\n",
              "      <td>NaN</td>\n",
              "      <td>R$ / litro</td>\n",
              "      <td>PETROBRAS DISTRIBUIDORA S.A.</td>\n",
              "    </tr>\n",
              "    <tr>\n",
              "      <th>4</th>\n",
              "      <td>N</td>\n",
              "      <td>AC</td>\n",
              "      <td>CRUZEIRO DO SUL</td>\n",
              "      <td>CARDINAL E OLIVEIRA LTDA</td>\n",
              "      <td>03.608.766/0004-94</td>\n",
              "      <td>AVENIDA LAURO MULLER</td>\n",
              "      <td>943</td>\n",
              "      <td>NaN</td>\n",
              "      <td>JOÃO ALVES</td>\n",
              "      <td>69980-000</td>\n",
              "      <td>GASOLINA</td>\n",
              "      <td>02/06/2021</td>\n",
              "      <td>6,89</td>\n",
              "      <td>NaN</td>\n",
              "      <td>R$ / litro</td>\n",
              "      <td>BRANCA</td>\n",
              "    </tr>\n",
              "    <tr>\n",
              "      <th>...</th>\n",
              "      <td>...</td>\n",
              "      <td>...</td>\n",
              "      <td>...</td>\n",
              "      <td>...</td>\n",
              "      <td>...</td>\n",
              "      <td>...</td>\n",
              "      <td>...</td>\n",
              "      <td>...</td>\n",
              "      <td>...</td>\n",
              "      <td>...</td>\n",
              "      <td>...</td>\n",
              "      <td>...</td>\n",
              "      <td>...</td>\n",
              "      <td>...</td>\n",
              "      <td>...</td>\n",
              "      <td>...</td>\n",
              "    </tr>\n",
              "    <tr>\n",
              "      <th>49732</th>\n",
              "      <td>NE</td>\n",
              "      <td>PE</td>\n",
              "      <td>VITORIA DE SANTO ANTAO</td>\n",
              "      <td>OLIVEIRA E SILVA POSTOS LTDA</td>\n",
              "      <td>35.228.711/0001-00</td>\n",
              "      <td>AVENIDA HENRIQUE DE HOLANDA</td>\n",
              "      <td>S/N</td>\n",
              "      <td>ANEXO 01</td>\n",
              "      <td>REDENCAO</td>\n",
              "      <td>55612-025</td>\n",
              "      <td>GASOLINA</td>\n",
              "      <td>27/06/2021</td>\n",
              "      <td>5,59</td>\n",
              "      <td>NaN</td>\n",
              "      <td>R$ / litro</td>\n",
              "      <td>BRANCA</td>\n",
              "    </tr>\n",
              "    <tr>\n",
              "      <th>49733</th>\n",
              "      <td>NE</td>\n",
              "      <td>PE</td>\n",
              "      <td>VITORIA DE SANTO ANTAO</td>\n",
              "      <td>OLIVEIRA E SILVA POSTOS LTDA</td>\n",
              "      <td>35.228.711/0001-00</td>\n",
              "      <td>AVENIDA HENRIQUE DE HOLANDA</td>\n",
              "      <td>S/N</td>\n",
              "      <td>ANEXO 01</td>\n",
              "      <td>REDENCAO</td>\n",
              "      <td>55612-025</td>\n",
              "      <td>ETANOL</td>\n",
              "      <td>27/06/2021</td>\n",
              "      <td>4,72</td>\n",
              "      <td>NaN</td>\n",
              "      <td>R$ / litro</td>\n",
              "      <td>BRANCA</td>\n",
              "    </tr>\n",
              "    <tr>\n",
              "      <th>49734</th>\n",
              "      <td>SE</td>\n",
              "      <td>ES</td>\n",
              "      <td>ARACRUZ</td>\n",
              "      <td>POSTO DE COMBUSTIVEL SHOW EIRELI</td>\n",
              "      <td>23.797.660/0001-40</td>\n",
              "      <td>AVENIDA CORONEL VENANCIO FLORES</td>\n",
              "      <td>28</td>\n",
              "      <td>NaN</td>\n",
              "      <td>CENTRO</td>\n",
              "      <td>29190-010</td>\n",
              "      <td>GASOLINA</td>\n",
              "      <td>28/06/2021</td>\n",
              "      <td>5,67</td>\n",
              "      <td>NaN</td>\n",
              "      <td>R$ / litro</td>\n",
              "      <td>BRANCA</td>\n",
              "    </tr>\n",
              "    <tr>\n",
              "      <th>49735</th>\n",
              "      <td>SE</td>\n",
              "      <td>ES</td>\n",
              "      <td>ARACRUZ</td>\n",
              "      <td>POSTO DE COMBUSTIVEL SHOW EIRELI</td>\n",
              "      <td>23.797.660/0001-40</td>\n",
              "      <td>AVENIDA CORONEL VENANCIO FLORES</td>\n",
              "      <td>28</td>\n",
              "      <td>NaN</td>\n",
              "      <td>CENTRO</td>\n",
              "      <td>29190-010</td>\n",
              "      <td>ETANOL</td>\n",
              "      <td>28/06/2021</td>\n",
              "      <td>4,79</td>\n",
              "      <td>NaN</td>\n",
              "      <td>R$ / litro</td>\n",
              "      <td>BRANCA</td>\n",
              "    </tr>\n",
              "    <tr>\n",
              "      <th>49736</th>\n",
              "      <td>SE</td>\n",
              "      <td>ES</td>\n",
              "      <td>ARACRUZ</td>\n",
              "      <td>POSTO DE COMBUSTIVEL SHOW EIRELI</td>\n",
              "      <td>23.797.660/0001-40</td>\n",
              "      <td>AVENIDA CORONEL VENANCIO FLORES</td>\n",
              "      <td>28</td>\n",
              "      <td>NaN</td>\n",
              "      <td>CENTRO</td>\n",
              "      <td>29190-010</td>\n",
              "      <td>GASOLINA ADITIVADA</td>\n",
              "      <td>28/06/2021</td>\n",
              "      <td>5,67</td>\n",
              "      <td>NaN</td>\n",
              "      <td>R$ / litro</td>\n",
              "      <td>BRANCA</td>\n",
              "    </tr>\n",
              "  </tbody>\n",
              "</table>\n",
              "<p>49737 rows × 16 columns</p>\n",
              "</div>\n",
              "      <button class=\"colab-df-convert\" onclick=\"convertToInteractive('df-e10b22af-965c-4369-969c-049580f1a801')\"\n",
              "              title=\"Convert this dataframe to an interactive table.\"\n",
              "              style=\"display:none;\">\n",
              "        \n",
              "  <svg xmlns=\"http://www.w3.org/2000/svg\" height=\"24px\"viewBox=\"0 0 24 24\"\n",
              "       width=\"24px\">\n",
              "    <path d=\"M0 0h24v24H0V0z\" fill=\"none\"/>\n",
              "    <path d=\"M18.56 5.44l.94 2.06.94-2.06 2.06-.94-2.06-.94-.94-2.06-.94 2.06-2.06.94zm-11 1L8.5 8.5l.94-2.06 2.06-.94-2.06-.94L8.5 2.5l-.94 2.06-2.06.94zm10 10l.94 2.06.94-2.06 2.06-.94-2.06-.94-.94-2.06-.94 2.06-2.06.94z\"/><path d=\"M17.41 7.96l-1.37-1.37c-.4-.4-.92-.59-1.43-.59-.52 0-1.04.2-1.43.59L10.3 9.45l-7.72 7.72c-.78.78-.78 2.05 0 2.83L4 21.41c.39.39.9.59 1.41.59.51 0 1.02-.2 1.41-.59l7.78-7.78 2.81-2.81c.8-.78.8-2.07 0-2.86zM5.41 20L4 18.59l7.72-7.72 1.47 1.35L5.41 20z\"/>\n",
              "  </svg>\n",
              "      </button>\n",
              "      \n",
              "  <style>\n",
              "    .colab-df-container {\n",
              "      display:flex;\n",
              "      flex-wrap:wrap;\n",
              "      gap: 12px;\n",
              "    }\n",
              "\n",
              "    .colab-df-convert {\n",
              "      background-color: #E8F0FE;\n",
              "      border: none;\n",
              "      border-radius: 50%;\n",
              "      cursor: pointer;\n",
              "      display: none;\n",
              "      fill: #1967D2;\n",
              "      height: 32px;\n",
              "      padding: 0 0 0 0;\n",
              "      width: 32px;\n",
              "    }\n",
              "\n",
              "    .colab-df-convert:hover {\n",
              "      background-color: #E2EBFA;\n",
              "      box-shadow: 0px 1px 2px rgba(60, 64, 67, 0.3), 0px 1px 3px 1px rgba(60, 64, 67, 0.15);\n",
              "      fill: #174EA6;\n",
              "    }\n",
              "\n",
              "    [theme=dark] .colab-df-convert {\n",
              "      background-color: #3B4455;\n",
              "      fill: #D2E3FC;\n",
              "    }\n",
              "\n",
              "    [theme=dark] .colab-df-convert:hover {\n",
              "      background-color: #434B5C;\n",
              "      box-shadow: 0px 1px 3px 1px rgba(0, 0, 0, 0.15);\n",
              "      filter: drop-shadow(0px 1px 2px rgba(0, 0, 0, 0.3));\n",
              "      fill: #FFFFFF;\n",
              "    }\n",
              "  </style>\n",
              "\n",
              "      <script>\n",
              "        const buttonEl =\n",
              "          document.querySelector('#df-e10b22af-965c-4369-969c-049580f1a801 button.colab-df-convert');\n",
              "        buttonEl.style.display =\n",
              "          google.colab.kernel.accessAllowed ? 'block' : 'none';\n",
              "\n",
              "        async function convertToInteractive(key) {\n",
              "          const element = document.querySelector('#df-e10b22af-965c-4369-969c-049580f1a801');\n",
              "          const dataTable =\n",
              "            await google.colab.kernel.invokeFunction('convertToInteractive',\n",
              "                                                     [key], {});\n",
              "          if (!dataTable) return;\n",
              "\n",
              "          const docLinkHtml = 'Like what you see? Visit the ' +\n",
              "            '<a target=\"_blank\" href=https://colab.research.google.com/notebooks/data_table.ipynb>data table notebook</a>'\n",
              "            + ' to learn more about interactive tables.';\n",
              "          element.innerHTML = '';\n",
              "          dataTable['output_type'] = 'display_data';\n",
              "          await google.colab.output.renderOutput(dataTable, element);\n",
              "          const docLink = document.createElement('div');\n",
              "          docLink.innerHTML = docLinkHtml;\n",
              "          element.appendChild(docLink);\n",
              "        }\n",
              "      </script>\n",
              "    </div>\n",
              "  </div>\n",
              "  "
            ],
            "text/plain": [
              "      Região - Sigla  ...                      Bandeira\n",
              "0                  N  ...  PETROBRAS DISTRIBUIDORA S.A.\n",
              "1                  N  ...  PETROBRAS DISTRIBUIDORA S.A.\n",
              "2                  N  ...  PETROBRAS DISTRIBUIDORA S.A.\n",
              "3                  N  ...  PETROBRAS DISTRIBUIDORA S.A.\n",
              "4                  N  ...                        BRANCA\n",
              "...              ...  ...                           ...\n",
              "49732             NE  ...                        BRANCA\n",
              "49733             NE  ...                        BRANCA\n",
              "49734             SE  ...                        BRANCA\n",
              "49735             SE  ...                        BRANCA\n",
              "49736             SE  ...                        BRANCA\n",
              "\n",
              "[49737 rows x 16 columns]"
            ]
          },
          "metadata": {},
          "execution_count": 4
        }
      ]
    },
    {
      "cell_type": "markdown",
      "source": [
        "##**Base de dados julho de 2021**"
      ],
      "metadata": {
        "id": "r66qEsguu4_O"
      }
    },
    {
      "cell_type": "code",
      "source": [
        "julho21 = pd.read_csv ('https://www.gov.br/anp/pt-br/centrais-de-conteudo/dados-abertos/arquivos/shpc/dsan/2021/2021-07-gasolina-etanol.csv', sep = ';')\n",
        "julho21"
      ],
      "metadata": {
        "colab": {
          "base_uri": "https://localhost:8080/",
          "height": 1000
        },
        "id": "TgdYwBjgugYV",
        "outputId": "ff51ad24-6ef9-4f49-8a1f-50f5d450f1ee"
      },
      "execution_count": 5,
      "outputs": [
        {
          "output_type": "execute_result",
          "data": {
            "text/html": [
              "\n",
              "  <div id=\"df-99b8369c-0426-40e3-aa20-8668ddcdcd42\">\n",
              "    <div class=\"colab-df-container\">\n",
              "      <div>\n",
              "<style scoped>\n",
              "    .dataframe tbody tr th:only-of-type {\n",
              "        vertical-align: middle;\n",
              "    }\n",
              "\n",
              "    .dataframe tbody tr th {\n",
              "        vertical-align: top;\n",
              "    }\n",
              "\n",
              "    .dataframe thead th {\n",
              "        text-align: right;\n",
              "    }\n",
              "</style>\n",
              "<table border=\"1\" class=\"dataframe\">\n",
              "  <thead>\n",
              "    <tr style=\"text-align: right;\">\n",
              "      <th></th>\n",
              "      <th>Região - Sigla</th>\n",
              "      <th>Estado - Sigla</th>\n",
              "      <th>Município</th>\n",
              "      <th>Revenda</th>\n",
              "      <th>CNPJ da Revenda</th>\n",
              "      <th>Nome da Rua</th>\n",
              "      <th>Número Rua</th>\n",
              "      <th>Complemento</th>\n",
              "      <th>Bairro</th>\n",
              "      <th>Cep</th>\n",
              "      <th>Produto</th>\n",
              "      <th>Data da Coleta</th>\n",
              "      <th>Valor de Venda</th>\n",
              "      <th>Valor de Compra</th>\n",
              "      <th>Unidade de Medida</th>\n",
              "      <th>Bandeira</th>\n",
              "    </tr>\n",
              "  </thead>\n",
              "  <tbody>\n",
              "    <tr>\n",
              "      <th>0</th>\n",
              "      <td>NE</td>\n",
              "      <td>CE</td>\n",
              "      <td>MARACANAU</td>\n",
              "      <td>BEZERRA &amp; MENDES COMERCIAL DE PETRÓLEO LTDA.</td>\n",
              "      <td>05.397.086/0001-51</td>\n",
              "      <td>RODOVIA MARANGUAPE - FORTALEZA - KM 06</td>\n",
              "      <td>S/N</td>\n",
              "      <td>NaN</td>\n",
              "      <td>PARQUE LUZARDO VIANA</td>\n",
              "      <td>61910-000</td>\n",
              "      <td>GASOLINA</td>\n",
              "      <td>01/07/2021</td>\n",
              "      <td>5,499</td>\n",
              "      <td>NaN</td>\n",
              "      <td>R$ / litro</td>\n",
              "      <td>IPIRANGA</td>\n",
              "    </tr>\n",
              "    <tr>\n",
              "      <th>1</th>\n",
              "      <td>NE</td>\n",
              "      <td>CE</td>\n",
              "      <td>MARACANAU</td>\n",
              "      <td>BEZERRA &amp; MENDES COMERCIAL DE PETRÓLEO LTDA.</td>\n",
              "      <td>05.397.086/0001-51</td>\n",
              "      <td>RODOVIA MARANGUAPE - FORTALEZA - KM 06</td>\n",
              "      <td>S/N</td>\n",
              "      <td>NaN</td>\n",
              "      <td>PARQUE LUZARDO VIANA</td>\n",
              "      <td>61910-000</td>\n",
              "      <td>ETANOL</td>\n",
              "      <td>01/07/2021</td>\n",
              "      <td>5,2</td>\n",
              "      <td>NaN</td>\n",
              "      <td>R$ / litro</td>\n",
              "      <td>IPIRANGA</td>\n",
              "    </tr>\n",
              "    <tr>\n",
              "      <th>2</th>\n",
              "      <td>NE</td>\n",
              "      <td>CE</td>\n",
              "      <td>MARACANAU</td>\n",
              "      <td>BEZERRA &amp; MENDES COMERCIAL DE PETRÓLEO LTDA.</td>\n",
              "      <td>05.397.086/0001-51</td>\n",
              "      <td>RODOVIA MARANGUAPE - FORTALEZA - KM 06</td>\n",
              "      <td>S/N</td>\n",
              "      <td>NaN</td>\n",
              "      <td>PARQUE LUZARDO VIANA</td>\n",
              "      <td>61910-000</td>\n",
              "      <td>GASOLINA ADITIVADA</td>\n",
              "      <td>01/07/2021</td>\n",
              "      <td>5,699</td>\n",
              "      <td>NaN</td>\n",
              "      <td>R$ / litro</td>\n",
              "      <td>IPIRANGA</td>\n",
              "    </tr>\n",
              "    <tr>\n",
              "      <th>3</th>\n",
              "      <td>NE</td>\n",
              "      <td>CE</td>\n",
              "      <td>MARACANAU</td>\n",
              "      <td>LUIZA GLAURIA R T MENEZES</td>\n",
              "      <td>03.602.329/0001-10</td>\n",
              "      <td>ESTRADA FORTALEZA MARANGUAPE</td>\n",
              "      <td>S/N</td>\n",
              "      <td>NaN</td>\n",
              "      <td>KAGADO</td>\n",
              "      <td>61901-410</td>\n",
              "      <td>GASOLINA</td>\n",
              "      <td>01/07/2021</td>\n",
              "      <td>5,49</td>\n",
              "      <td>NaN</td>\n",
              "      <td>R$ / litro</td>\n",
              "      <td>PETROBRAS DISTRIBUIDORA S.A.</td>\n",
              "    </tr>\n",
              "    <tr>\n",
              "      <th>4</th>\n",
              "      <td>NE</td>\n",
              "      <td>CE</td>\n",
              "      <td>MARACANAU</td>\n",
              "      <td>LUIZA GLAURIA R T MENEZES</td>\n",
              "      <td>03.602.329/0001-10</td>\n",
              "      <td>ESTRADA FORTALEZA MARANGUAPE</td>\n",
              "      <td>S/N</td>\n",
              "      <td>NaN</td>\n",
              "      <td>KAGADO</td>\n",
              "      <td>61901-410</td>\n",
              "      <td>ETANOL</td>\n",
              "      <td>01/07/2021</td>\n",
              "      <td>4,99</td>\n",
              "      <td>NaN</td>\n",
              "      <td>R$ / litro</td>\n",
              "      <td>PETROBRAS DISTRIBUIDORA S.A.</td>\n",
              "    </tr>\n",
              "    <tr>\n",
              "      <th>...</th>\n",
              "      <td>...</td>\n",
              "      <td>...</td>\n",
              "      <td>...</td>\n",
              "      <td>...</td>\n",
              "      <td>...</td>\n",
              "      <td>...</td>\n",
              "      <td>...</td>\n",
              "      <td>...</td>\n",
              "      <td>...</td>\n",
              "      <td>...</td>\n",
              "      <td>...</td>\n",
              "      <td>...</td>\n",
              "      <td>...</td>\n",
              "      <td>...</td>\n",
              "      <td>...</td>\n",
              "      <td>...</td>\n",
              "    </tr>\n",
              "    <tr>\n",
              "      <th>47844</th>\n",
              "      <td>SE</td>\n",
              "      <td>ES</td>\n",
              "      <td>ARACRUZ</td>\n",
              "      <td>POSTO DE COMBUSTIVEL SHOW EIRELI</td>\n",
              "      <td>23.797.660/0001-40</td>\n",
              "      <td>AVENIDA CORONEL VENANCIO FLORES</td>\n",
              "      <td>28</td>\n",
              "      <td>NaN</td>\n",
              "      <td>CENTRO</td>\n",
              "      <td>29190-010</td>\n",
              "      <td>GASOLINA ADITIVADA</td>\n",
              "      <td>26/07/2021</td>\n",
              "      <td>5,87</td>\n",
              "      <td>NaN</td>\n",
              "      <td>R$ / litro</td>\n",
              "      <td>BRANCA</td>\n",
              "    </tr>\n",
              "    <tr>\n",
              "      <th>47845</th>\n",
              "      <td>SE</td>\n",
              "      <td>ES</td>\n",
              "      <td>ARACRUZ</td>\n",
              "      <td>POSTO DE COMBUSTIVEL SHOW EIRELI</td>\n",
              "      <td>23.797.660/0001-40</td>\n",
              "      <td>AVENIDA CORONEL VENANCIO FLORES</td>\n",
              "      <td>28</td>\n",
              "      <td>NaN</td>\n",
              "      <td>CENTRO</td>\n",
              "      <td>29190-010</td>\n",
              "      <td>ETANOL</td>\n",
              "      <td>26/07/2021</td>\n",
              "      <td>4,99</td>\n",
              "      <td>NaN</td>\n",
              "      <td>R$ / litro</td>\n",
              "      <td>BRANCA</td>\n",
              "    </tr>\n",
              "    <tr>\n",
              "      <th>47846</th>\n",
              "      <td>SE</td>\n",
              "      <td>ES</td>\n",
              "      <td>ARACRUZ</td>\n",
              "      <td>POSTO DE COMBUSTIVEL SHOW EIRELI</td>\n",
              "      <td>23.797.660/0001-40</td>\n",
              "      <td>AVENIDA CORONEL VENANCIO FLORES</td>\n",
              "      <td>28</td>\n",
              "      <td>NaN</td>\n",
              "      <td>CENTRO</td>\n",
              "      <td>29190-010</td>\n",
              "      <td>GASOLINA</td>\n",
              "      <td>26/07/2021</td>\n",
              "      <td>5,87</td>\n",
              "      <td>NaN</td>\n",
              "      <td>R$ / litro</td>\n",
              "      <td>BRANCA</td>\n",
              "    </tr>\n",
              "    <tr>\n",
              "      <th>47847</th>\n",
              "      <td>SE</td>\n",
              "      <td>MG</td>\n",
              "      <td>ARAXA</td>\n",
              "      <td>AUTO POSTO BRANQUINHO LTDA</td>\n",
              "      <td>37.461.683/0001-94</td>\n",
              "      <td>AVENIDA SENADOR MONTANDON</td>\n",
              "      <td>950</td>\n",
              "      <td>NaN</td>\n",
              "      <td>CENTRO</td>\n",
              "      <td>38183-214</td>\n",
              "      <td>ETANOL</td>\n",
              "      <td>28/07/2021</td>\n",
              "      <td>4,599</td>\n",
              "      <td>NaN</td>\n",
              "      <td>R$ / litro</td>\n",
              "      <td>RIO BRANCO</td>\n",
              "    </tr>\n",
              "    <tr>\n",
              "      <th>47848</th>\n",
              "      <td>SE</td>\n",
              "      <td>MG</td>\n",
              "      <td>ARAXA</td>\n",
              "      <td>AUTO POSTO BRANQUINHO LTDA</td>\n",
              "      <td>37.461.683/0001-94</td>\n",
              "      <td>AVENIDA SENADOR MONTANDON</td>\n",
              "      <td>950</td>\n",
              "      <td>NaN</td>\n",
              "      <td>CENTRO</td>\n",
              "      <td>38183-214</td>\n",
              "      <td>GASOLINA</td>\n",
              "      <td>28/07/2021</td>\n",
              "      <td>6,199</td>\n",
              "      <td>NaN</td>\n",
              "      <td>R$ / litro</td>\n",
              "      <td>RIO BRANCO</td>\n",
              "    </tr>\n",
              "  </tbody>\n",
              "</table>\n",
              "<p>47849 rows × 16 columns</p>\n",
              "</div>\n",
              "      <button class=\"colab-df-convert\" onclick=\"convertToInteractive('df-99b8369c-0426-40e3-aa20-8668ddcdcd42')\"\n",
              "              title=\"Convert this dataframe to an interactive table.\"\n",
              "              style=\"display:none;\">\n",
              "        \n",
              "  <svg xmlns=\"http://www.w3.org/2000/svg\" height=\"24px\"viewBox=\"0 0 24 24\"\n",
              "       width=\"24px\">\n",
              "    <path d=\"M0 0h24v24H0V0z\" fill=\"none\"/>\n",
              "    <path d=\"M18.56 5.44l.94 2.06.94-2.06 2.06-.94-2.06-.94-.94-2.06-.94 2.06-2.06.94zm-11 1L8.5 8.5l.94-2.06 2.06-.94-2.06-.94L8.5 2.5l-.94 2.06-2.06.94zm10 10l.94 2.06.94-2.06 2.06-.94-2.06-.94-.94-2.06-.94 2.06-2.06.94z\"/><path d=\"M17.41 7.96l-1.37-1.37c-.4-.4-.92-.59-1.43-.59-.52 0-1.04.2-1.43.59L10.3 9.45l-7.72 7.72c-.78.78-.78 2.05 0 2.83L4 21.41c.39.39.9.59 1.41.59.51 0 1.02-.2 1.41-.59l7.78-7.78 2.81-2.81c.8-.78.8-2.07 0-2.86zM5.41 20L4 18.59l7.72-7.72 1.47 1.35L5.41 20z\"/>\n",
              "  </svg>\n",
              "      </button>\n",
              "      \n",
              "  <style>\n",
              "    .colab-df-container {\n",
              "      display:flex;\n",
              "      flex-wrap:wrap;\n",
              "      gap: 12px;\n",
              "    }\n",
              "\n",
              "    .colab-df-convert {\n",
              "      background-color: #E8F0FE;\n",
              "      border: none;\n",
              "      border-radius: 50%;\n",
              "      cursor: pointer;\n",
              "      display: none;\n",
              "      fill: #1967D2;\n",
              "      height: 32px;\n",
              "      padding: 0 0 0 0;\n",
              "      width: 32px;\n",
              "    }\n",
              "\n",
              "    .colab-df-convert:hover {\n",
              "      background-color: #E2EBFA;\n",
              "      box-shadow: 0px 1px 2px rgba(60, 64, 67, 0.3), 0px 1px 3px 1px rgba(60, 64, 67, 0.15);\n",
              "      fill: #174EA6;\n",
              "    }\n",
              "\n",
              "    [theme=dark] .colab-df-convert {\n",
              "      background-color: #3B4455;\n",
              "      fill: #D2E3FC;\n",
              "    }\n",
              "\n",
              "    [theme=dark] .colab-df-convert:hover {\n",
              "      background-color: #434B5C;\n",
              "      box-shadow: 0px 1px 3px 1px rgba(0, 0, 0, 0.15);\n",
              "      filter: drop-shadow(0px 1px 2px rgba(0, 0, 0, 0.3));\n",
              "      fill: #FFFFFF;\n",
              "    }\n",
              "  </style>\n",
              "\n",
              "      <script>\n",
              "        const buttonEl =\n",
              "          document.querySelector('#df-99b8369c-0426-40e3-aa20-8668ddcdcd42 button.colab-df-convert');\n",
              "        buttonEl.style.display =\n",
              "          google.colab.kernel.accessAllowed ? 'block' : 'none';\n",
              "\n",
              "        async function convertToInteractive(key) {\n",
              "          const element = document.querySelector('#df-99b8369c-0426-40e3-aa20-8668ddcdcd42');\n",
              "          const dataTable =\n",
              "            await google.colab.kernel.invokeFunction('convertToInteractive',\n",
              "                                                     [key], {});\n",
              "          if (!dataTable) return;\n",
              "\n",
              "          const docLinkHtml = 'Like what you see? Visit the ' +\n",
              "            '<a target=\"_blank\" href=https://colab.research.google.com/notebooks/data_table.ipynb>data table notebook</a>'\n",
              "            + ' to learn more about interactive tables.';\n",
              "          element.innerHTML = '';\n",
              "          dataTable['output_type'] = 'display_data';\n",
              "          await google.colab.output.renderOutput(dataTable, element);\n",
              "          const docLink = document.createElement('div');\n",
              "          docLink.innerHTML = docLinkHtml;\n",
              "          element.appendChild(docLink);\n",
              "        }\n",
              "      </script>\n",
              "    </div>\n",
              "  </div>\n",
              "  "
            ],
            "text/plain": [
              "      Região - Sigla  ...                      Bandeira\n",
              "0                 NE  ...                      IPIRANGA\n",
              "1                 NE  ...                      IPIRANGA\n",
              "2                 NE  ...                      IPIRANGA\n",
              "3                 NE  ...  PETROBRAS DISTRIBUIDORA S.A.\n",
              "4                 NE  ...  PETROBRAS DISTRIBUIDORA S.A.\n",
              "...              ...  ...                           ...\n",
              "47844             SE  ...                        BRANCA\n",
              "47845             SE  ...                        BRANCA\n",
              "47846             SE  ...                        BRANCA\n",
              "47847             SE  ...                    RIO BRANCO\n",
              "47848             SE  ...                    RIO BRANCO\n",
              "\n",
              "[47849 rows x 16 columns]"
            ]
          },
          "metadata": {},
          "execution_count": 5
        }
      ]
    },
    {
      "cell_type": "code",
      "source": [
        "tabela_completa = pd.concat([junho21, julho21])\n",
        "tabela_completa.head()"
      ],
      "metadata": {
        "id": "uDl4P3QrAf4a",
        "colab": {
          "base_uri": "https://localhost:8080/",
          "height": 565
        },
        "outputId": "f08a2ab3-4927-4973-9389-9f0486b05247"
      },
      "execution_count": 6,
      "outputs": [
        {
          "output_type": "execute_result",
          "data": {
            "text/html": [
              "\n",
              "  <div id=\"df-589a6fc7-6678-4253-ad7a-9f0c099b61fa\">\n",
              "    <div class=\"colab-df-container\">\n",
              "      <div>\n",
              "<style scoped>\n",
              "    .dataframe tbody tr th:only-of-type {\n",
              "        vertical-align: middle;\n",
              "    }\n",
              "\n",
              "    .dataframe tbody tr th {\n",
              "        vertical-align: top;\n",
              "    }\n",
              "\n",
              "    .dataframe thead th {\n",
              "        text-align: right;\n",
              "    }\n",
              "</style>\n",
              "<table border=\"1\" class=\"dataframe\">\n",
              "  <thead>\n",
              "    <tr style=\"text-align: right;\">\n",
              "      <th></th>\n",
              "      <th>Região - Sigla</th>\n",
              "      <th>Estado - Sigla</th>\n",
              "      <th>Município</th>\n",
              "      <th>Revenda</th>\n",
              "      <th>CNPJ da Revenda</th>\n",
              "      <th>Nome da Rua</th>\n",
              "      <th>Número Rua</th>\n",
              "      <th>Complemento</th>\n",
              "      <th>Bairro</th>\n",
              "      <th>Cep</th>\n",
              "      <th>Produto</th>\n",
              "      <th>Data da Coleta</th>\n",
              "      <th>Valor de Venda</th>\n",
              "      <th>Valor de Compra</th>\n",
              "      <th>Unidade de Medida</th>\n",
              "      <th>Bandeira</th>\n",
              "    </tr>\n",
              "  </thead>\n",
              "  <tbody>\n",
              "    <tr>\n",
              "      <th>0</th>\n",
              "      <td>N</td>\n",
              "      <td>AC</td>\n",
              "      <td>CRUZEIRO DO SUL</td>\n",
              "      <td>CARDINAL E OLIVEIRA LTDA</td>\n",
              "      <td>03.608.766/0005-75</td>\n",
              "      <td>AVENIDA BOULEVARD THAUMATURGO</td>\n",
              "      <td>1031</td>\n",
              "      <td>NaN</td>\n",
              "      <td>CENTRO</td>\n",
              "      <td>69980-000</td>\n",
              "      <td>GASOLINA</td>\n",
              "      <td>02/06/2021</td>\n",
              "      <td>6,89</td>\n",
              "      <td>NaN</td>\n",
              "      <td>R$ / litro</td>\n",
              "      <td>PETROBRAS DISTRIBUIDORA S.A.</td>\n",
              "    </tr>\n",
              "    <tr>\n",
              "      <th>1</th>\n",
              "      <td>N</td>\n",
              "      <td>AC</td>\n",
              "      <td>CRUZEIRO DO SUL</td>\n",
              "      <td>CARDINAL E OLIVEIRA LTDA</td>\n",
              "      <td>03.608.766/0005-75</td>\n",
              "      <td>AVENIDA BOULEVARD THAUMATURGO</td>\n",
              "      <td>1031</td>\n",
              "      <td>NaN</td>\n",
              "      <td>CENTRO</td>\n",
              "      <td>69980-000</td>\n",
              "      <td>GASOLINA ADITIVADA</td>\n",
              "      <td>02/06/2021</td>\n",
              "      <td>6,89</td>\n",
              "      <td>NaN</td>\n",
              "      <td>R$ / litro</td>\n",
              "      <td>PETROBRAS DISTRIBUIDORA S.A.</td>\n",
              "    </tr>\n",
              "    <tr>\n",
              "      <th>2</th>\n",
              "      <td>N</td>\n",
              "      <td>AC</td>\n",
              "      <td>CRUZEIRO DO SUL</td>\n",
              "      <td>CARDINAL E OLIVEIRA LTDA</td>\n",
              "      <td>03.608.766/0006-56</td>\n",
              "      <td>AVENIDA 25 DE AGOSTO</td>\n",
              "      <td>1350</td>\n",
              "      <td>NaN</td>\n",
              "      <td>25 DE AGOSTO</td>\n",
              "      <td>69980-000</td>\n",
              "      <td>ETANOL</td>\n",
              "      <td>01/06/2021</td>\n",
              "      <td>6,1</td>\n",
              "      <td>NaN</td>\n",
              "      <td>R$ / litro</td>\n",
              "      <td>PETROBRAS DISTRIBUIDORA S.A.</td>\n",
              "    </tr>\n",
              "    <tr>\n",
              "      <th>3</th>\n",
              "      <td>N</td>\n",
              "      <td>AC</td>\n",
              "      <td>CRUZEIRO DO SUL</td>\n",
              "      <td>CARDINAL E OLIVEIRA LTDA</td>\n",
              "      <td>03.608.766/0006-56</td>\n",
              "      <td>AVENIDA 25 DE AGOSTO</td>\n",
              "      <td>1350</td>\n",
              "      <td>NaN</td>\n",
              "      <td>25 DE AGOSTO</td>\n",
              "      <td>69980-000</td>\n",
              "      <td>GASOLINA</td>\n",
              "      <td>01/06/2021</td>\n",
              "      <td>6,89</td>\n",
              "      <td>NaN</td>\n",
              "      <td>R$ / litro</td>\n",
              "      <td>PETROBRAS DISTRIBUIDORA S.A.</td>\n",
              "    </tr>\n",
              "    <tr>\n",
              "      <th>4</th>\n",
              "      <td>N</td>\n",
              "      <td>AC</td>\n",
              "      <td>CRUZEIRO DO SUL</td>\n",
              "      <td>CARDINAL E OLIVEIRA LTDA</td>\n",
              "      <td>03.608.766/0004-94</td>\n",
              "      <td>AVENIDA LAURO MULLER</td>\n",
              "      <td>943</td>\n",
              "      <td>NaN</td>\n",
              "      <td>JOÃO ALVES</td>\n",
              "      <td>69980-000</td>\n",
              "      <td>GASOLINA</td>\n",
              "      <td>02/06/2021</td>\n",
              "      <td>6,89</td>\n",
              "      <td>NaN</td>\n",
              "      <td>R$ / litro</td>\n",
              "      <td>BRANCA</td>\n",
              "    </tr>\n",
              "  </tbody>\n",
              "</table>\n",
              "</div>\n",
              "      <button class=\"colab-df-convert\" onclick=\"convertToInteractive('df-589a6fc7-6678-4253-ad7a-9f0c099b61fa')\"\n",
              "              title=\"Convert this dataframe to an interactive table.\"\n",
              "              style=\"display:none;\">\n",
              "        \n",
              "  <svg xmlns=\"http://www.w3.org/2000/svg\" height=\"24px\"viewBox=\"0 0 24 24\"\n",
              "       width=\"24px\">\n",
              "    <path d=\"M0 0h24v24H0V0z\" fill=\"none\"/>\n",
              "    <path d=\"M18.56 5.44l.94 2.06.94-2.06 2.06-.94-2.06-.94-.94-2.06-.94 2.06-2.06.94zm-11 1L8.5 8.5l.94-2.06 2.06-.94-2.06-.94L8.5 2.5l-.94 2.06-2.06.94zm10 10l.94 2.06.94-2.06 2.06-.94-2.06-.94-.94-2.06-.94 2.06-2.06.94z\"/><path d=\"M17.41 7.96l-1.37-1.37c-.4-.4-.92-.59-1.43-.59-.52 0-1.04.2-1.43.59L10.3 9.45l-7.72 7.72c-.78.78-.78 2.05 0 2.83L4 21.41c.39.39.9.59 1.41.59.51 0 1.02-.2 1.41-.59l7.78-7.78 2.81-2.81c.8-.78.8-2.07 0-2.86zM5.41 20L4 18.59l7.72-7.72 1.47 1.35L5.41 20z\"/>\n",
              "  </svg>\n",
              "      </button>\n",
              "      \n",
              "  <style>\n",
              "    .colab-df-container {\n",
              "      display:flex;\n",
              "      flex-wrap:wrap;\n",
              "      gap: 12px;\n",
              "    }\n",
              "\n",
              "    .colab-df-convert {\n",
              "      background-color: #E8F0FE;\n",
              "      border: none;\n",
              "      border-radius: 50%;\n",
              "      cursor: pointer;\n",
              "      display: none;\n",
              "      fill: #1967D2;\n",
              "      height: 32px;\n",
              "      padding: 0 0 0 0;\n",
              "      width: 32px;\n",
              "    }\n",
              "\n",
              "    .colab-df-convert:hover {\n",
              "      background-color: #E2EBFA;\n",
              "      box-shadow: 0px 1px 2px rgba(60, 64, 67, 0.3), 0px 1px 3px 1px rgba(60, 64, 67, 0.15);\n",
              "      fill: #174EA6;\n",
              "    }\n",
              "\n",
              "    [theme=dark] .colab-df-convert {\n",
              "      background-color: #3B4455;\n",
              "      fill: #D2E3FC;\n",
              "    }\n",
              "\n",
              "    [theme=dark] .colab-df-convert:hover {\n",
              "      background-color: #434B5C;\n",
              "      box-shadow: 0px 1px 3px 1px rgba(0, 0, 0, 0.15);\n",
              "      filter: drop-shadow(0px 1px 2px rgba(0, 0, 0, 0.3));\n",
              "      fill: #FFFFFF;\n",
              "    }\n",
              "  </style>\n",
              "\n",
              "      <script>\n",
              "        const buttonEl =\n",
              "          document.querySelector('#df-589a6fc7-6678-4253-ad7a-9f0c099b61fa button.colab-df-convert');\n",
              "        buttonEl.style.display =\n",
              "          google.colab.kernel.accessAllowed ? 'block' : 'none';\n",
              "\n",
              "        async function convertToInteractive(key) {\n",
              "          const element = document.querySelector('#df-589a6fc7-6678-4253-ad7a-9f0c099b61fa');\n",
              "          const dataTable =\n",
              "            await google.colab.kernel.invokeFunction('convertToInteractive',\n",
              "                                                     [key], {});\n",
              "          if (!dataTable) return;\n",
              "\n",
              "          const docLinkHtml = 'Like what you see? Visit the ' +\n",
              "            '<a target=\"_blank\" href=https://colab.research.google.com/notebooks/data_table.ipynb>data table notebook</a>'\n",
              "            + ' to learn more about interactive tables.';\n",
              "          element.innerHTML = '';\n",
              "          dataTable['output_type'] = 'display_data';\n",
              "          await google.colab.output.renderOutput(dataTable, element);\n",
              "          const docLink = document.createElement('div');\n",
              "          docLink.innerHTML = docLinkHtml;\n",
              "          element.appendChild(docLink);\n",
              "        }\n",
              "      </script>\n",
              "    </div>\n",
              "  </div>\n",
              "  "
            ],
            "text/plain": [
              "  Região - Sigla Estado - Sigla  ... Unidade de Medida                      Bandeira\n",
              "0              N             AC  ...        R$ / litro  PETROBRAS DISTRIBUIDORA S.A.\n",
              "1              N             AC  ...        R$ / litro  PETROBRAS DISTRIBUIDORA S.A.\n",
              "2              N             AC  ...        R$ / litro  PETROBRAS DISTRIBUIDORA S.A.\n",
              "3              N             AC  ...        R$ / litro  PETROBRAS DISTRIBUIDORA S.A.\n",
              "4              N             AC  ...        R$ / litro                        BRANCA\n",
              "\n",
              "[5 rows x 16 columns]"
            ]
          },
          "metadata": {},
          "execution_count": 6
        }
      ]
    },
    {
      "cell_type": "markdown",
      "source": [
        "##ABAIXO O CÓDIGO PARA SUBSTITUIR VIRGULA POR PONTO PARA QUE SEJA POSSÍVEL FAZER O CÁLCULO DA MÉDIA"
      ],
      "metadata": {
        "id": "ebpaSm3ZFcJf"
      }
    },
    {
      "cell_type": "code",
      "source": [
        "tabela_completa['Valor de Venda'] = tabela_completa['Valor de Venda'].apply(lambda x:str(x).replace(\",\",\".\"))"
      ],
      "metadata": {
        "id": "OpRhzvZLEXEP"
      },
      "execution_count": 7,
      "outputs": []
    },
    {
      "cell_type": "markdown",
      "source": [
        "##DEPOIS PRECISAMOS CONVERTER A TABELA 'VALOR DE VENDA' PARA O TIPO FLOAT"
      ],
      "metadata": {
        "id": "EJ8THckrHAIB"
      }
    },
    {
      "cell_type": "code",
      "source": [
        "tabela_completa['Valor de Venda']=tabela_completa['Valor de Venda'].astype('float64')"
      ],
      "metadata": {
        "id": "uD7eof8aFIwi"
      },
      "execution_count": 8,
      "outputs": []
    },
    {
      "cell_type": "markdown",
      "source": [
        ""
      ],
      "metadata": {
        "id": "buYfk_6FHRcL"
      }
    },
    {
      "cell_type": "code",
      "source": [
        "tabela_completa.groupby(by='Produto')['Valor de Venda'].mean()\n"
      ],
      "metadata": {
        "colab": {
          "base_uri": "https://localhost:8080/"
        },
        "id": "TcsRZlTgFVm5",
        "outputId": "d5401a9c-31d6-4a64-baa9-a942c2c694bf"
      },
      "execution_count": 9,
      "outputs": [
        {
          "output_type": "execute_result",
          "data": {
            "text/plain": [
              "Produto\n",
              "ETANOL                4.581825\n",
              "GASOLINA              5.734739\n",
              "GASOLINA ADITIVADA    5.880734\n",
              "Name: Valor de Venda, dtype: float64"
            ]
          },
          "metadata": {},
          "execution_count": 9
        }
      ]
    },
    {
      "cell_type": "markdown",
      "source": [
        "###Análise I\n",
        "####Comportamento do preço dos combustíveis "
      ],
      "metadata": {
        "id": "VVDCsttp-JAz"
      }
    },
    {
      "cell_type": "code",
      "source": [
        ""
      ],
      "metadata": {
        "id": "wU5PJ9YH-uLh"
      },
      "execution_count": 7,
      "outputs": []
    },
    {
      "cell_type": "code",
      "source": [
        ""
      ],
      "metadata": {
        "id": "eHS80WgW-jvJ"
      },
      "execution_count": 7,
      "outputs": []
    },
    {
      "cell_type": "markdown",
      "source": [
        "###Análise II\n",
        "####Preço médio da gasolina e do etanol"
      ],
      "metadata": {
        "id": "PaZXDfma-oCQ"
      }
    },
    {
      "cell_type": "code",
      "source": [
        ""
      ],
      "metadata": {
        "id": "N6JwNFEf-_1b"
      },
      "execution_count": 7,
      "outputs": []
    },
    {
      "cell_type": "markdown",
      "source": [
        "###Análise III\n",
        "####Estados com o preço médio da gasolina e do etanol mais caros"
      ],
      "metadata": {
        "id": "mIe7NMLY_Ayk"
      }
    },
    {
      "cell_type": "code",
      "source": [
        ""
      ],
      "metadata": {
        "id": "t-aj6gxa_TYE"
      },
      "execution_count": 7,
      "outputs": []
    },
    {
      "cell_type": "markdown",
      "source": [
        "###Análise IV\n",
        "####Preço médio da gasolina e do etanol por Estado"
      ],
      "metadata": {
        "id": "DVPamwu6_U7j"
      }
    },
    {
      "cell_type": "code",
      "source": [
        ""
      ],
      "metadata": {
        "id": "-BGbuh1v_krD"
      },
      "execution_count": 7,
      "outputs": []
    },
    {
      "cell_type": "markdown",
      "source": [
        "###Análise V\n",
        "####Município que possui o menor preço para a gasolina e para o etanol"
      ],
      "metadata": {
        "id": "tHf7eEkl_lwr"
      }
    },
    {
      "cell_type": "code",
      "source": [
        ""
      ],
      "metadata": {
        "id": "mAyMnD18_029"
      },
      "execution_count": 7,
      "outputs": []
    },
    {
      "cell_type": "markdown",
      "source": [
        "###Análise VI\n",
        "####Município que possui o maior preço "
      ],
      "metadata": {
        "id": "itJThBmh_2PL"
      }
    },
    {
      "cell_type": "code",
      "source": [
        ""
      ],
      "metadata": {
        "id": "VPZLRv5-AO6g"
      },
      "execution_count": 7,
      "outputs": []
    },
    {
      "cell_type": "markdown",
      "source": [
        "###Análise VII\n",
        "####Região que possui o maior valor médio da gasolina"
      ],
      "metadata": {
        "id": "6lqwRN-bAPnQ"
      }
    },
    {
      "cell_type": "code",
      "source": [
        ""
      ],
      "metadata": {
        "id": "bFqAZNRHAjqE"
      },
      "execution_count": 7,
      "outputs": []
    },
    {
      "cell_type": "markdown",
      "source": [
        "###Análise VIII\n",
        "####Região que possui o menor valor médio do etanol"
      ],
      "metadata": {
        "id": "xMcyC1VYAkfD"
      }
    },
    {
      "cell_type": "code",
      "source": [
        ""
      ],
      "metadata": {
        "id": "UxxsLMPeAxNZ"
      },
      "execution_count": 7,
      "outputs": []
    },
    {
      "cell_type": "markdown",
      "source": [
        "###Análise IX\n",
        "####Valor do combustível X Região\n",
        "#####Correlação entre o valor do combustível (gasolina e etanol) e região onde ele é vendido"
      ],
      "metadata": {
        "id": "HwnWUcQiAyww"
      }
    },
    {
      "cell_type": "code",
      "source": [
        ""
      ],
      "metadata": {
        "id": "WJZe-5xRBYup"
      },
      "execution_count": 7,
      "outputs": []
    },
    {
      "cell_type": "markdown",
      "source": [
        "###Análise X\n",
        "####Valor do combustível X Bandeira\n",
        "#####Correlação entre o valor do combustível (gasolina e etanol) e a bandeira que vende ele"
      ],
      "metadata": {
        "id": "VAxvr3nwBa1Y"
      }
    },
    {
      "cell_type": "code",
      "source": [
        ""
      ],
      "metadata": {
        "id": "02wGAWkEB1fG"
      },
      "execution_count": 7,
      "outputs": []
    },
    {
      "cell_type": "markdown",
      "source": [
        "###Análise Extra I"
      ],
      "metadata": {
        "id": "Vg_2a3KLCOZl"
      }
    },
    {
      "cell_type": "code",
      "source": [
        ""
      ],
      "metadata": {
        "id": "sjujjuu5CS_m"
      },
      "execution_count": 7,
      "outputs": []
    },
    {
      "cell_type": "markdown",
      "source": [
        "###Análise Extra II"
      ],
      "metadata": {
        "id": "3pxqZzc1CUTN"
      }
    },
    {
      "cell_type": "code",
      "source": [
        ""
      ],
      "metadata": {
        "id": "y-FHZYV3CYeV"
      },
      "execution_count": 7,
      "outputs": []
    },
    {
      "cell_type": "code",
      "source": [
        ""
      ],
      "metadata": {
        "id": "yoPeEryZtDs-"
      },
      "execution_count": 7,
      "outputs": []
    }
  ]
}